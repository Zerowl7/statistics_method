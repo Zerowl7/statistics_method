{
 "cells": [
  {
   "cell_type": "code",
   "execution_count": 3,
   "id": "e31d3237",
   "metadata": {},
   "outputs": [
    {
     "data": {
      "image/png": "[encoded data removed]",
      "text/plain": [
       "<Figure size 432x288 with 1 Axes>"
      ]
     },
     "metadata": {
      "needs_background": "light"
     },
     "output_type": "display_data"
    }
   ],
   "source": [
    "import scipy.stats as stats\n",
    "from matplotlib import pyplot\n",
    "import itertools\n",
    "import numpy as np\n",
    "\n",
    "M = 0\n",
    "D = 1\n",
    "\n",
    "def ttest(a , b):\n",
    "    se = np.sqrt( a['SD']**2/a['N'] + b['SD']**2/b['N']  )\n",
    "    t = (a['Mx'] - b['Mx'])/se\n",
    "    dfreedom = a['N'] + b['N'] - 2\n",
    "    return stats.t.sf(np.abs(t), dfreedom)*2\n",
    "\n",
    "# n - элементов в выборке\n",
    "# m - количество выборок\n",
    "# a -  вероятность\n",
    "def false_alarm(m, n, a):\n",
    "    trys = 1000 # количество экспериментов\n",
    "    hist = {'Да':0, 'Нет':0} # результаты сравнений     \n",
    "    data = list(range(m)) # инициализация групп с выборками\n",
    "    \n",
    "    # запускаем trys экспериментов\n",
    "    for i in range(trys):\n",
    "        \n",
    "        # наполняем m выборок, для ускорения сразу их агрегируем по SD, Mx, N\n",
    "        for j in range(m):\n",
    "            dt = stats.norm.rvs(loc=M, scale=D, size=n)\n",
    "            data[j] = {'SD':np.std(dt, ddof = 1), 'Mx':np.mean(dt), 'N':n}\n",
    "        \n",
    "        #сравниваем выборки по 2 группы, перебор можно реализовать с помощью двух циклов или воспользоваться itertools\n",
    "        for first, second in itertools.combinations(data, 2):\n",
    "            if ttest(first, second) <= a:\n",
    "                hist['Да']+=1\n",
    "                break\n",
    "        else:\n",
    "            hist['Нет']+=1\n",
    "\n",
    "    # рисуем гитограмму частот\n",
    "    barlist = pyplot.bar(hist.keys(), hist.values(), color='b')\n",
    "    barlist[0].set_color('r')\n",
    "    pyplot.title(round(hist['Да'] / trys,3))\n",
    "    pyplot.ylabel('количество')\n",
    "    pyplot.show()\n",
    "    \n",
    " # Изменяем число выборок\n",
    " # Поправка Браферони m*(m-1)/2=b\n",
    " # a/b=c\n",
    "false_alarm(20,30,0.05)"
   ]
  },
  {
   "cell_type": "code",
   "execution_count": null,
   "id": "7a3a67e4",
   "metadata": {},
   "outputs": [],
   "source": []
  }
 ],
 "metadata": {
  "kernelspec": {
   "display_name": "Python 3 (ipykernel)",
   "language": "python",
   "name": "python3"
  },
  "language_info": {
   "codemirror_mode": {
    "name": "ipython",
    "version": 3
   },
   "file_extension": ".py",
   "mimetype": "text/x-python",
   "name": "python",
   "nbconvert_exporter": "python",
   "pygments_lexer": "ipython3",
   "version": "3.9.7"
  }
 },
 "nbformat": 4,
 "nbformat_minor": 5
}
