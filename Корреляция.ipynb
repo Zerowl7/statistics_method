{
 "cells": [
  {
   "cell_type": "code",
   "execution_count": 5,
   "id": "ef4c6bbc",
   "metadata": {},
   "outputs": [
    {
     "name": "stdout",
     "output_type": "stream",
     "text": [
      "(Pearson's correlation coefficient, 2-tailed p-value) = (0.5238618336023664, 0.0029668886762983285)\n"
     ]
    },
    {
     "data": {
      "image/png": "[encoded data removed]",
      "text/plain": [
       "<Figure size 432x288 with 1 Axes>"
      ]
     },
     "metadata": {
      "needs_background": "light"
     },
     "output_type": "display_data"
    },
    {
     "name": "stdout",
     "output_type": "stream",
     "text": [
      "data: x and y\n",
      "t = 3.25429, df = 28, p-value = 0.00297\n",
      "z value: 0.5816474970585078\n",
      "sigma value (i.e standard error): 0.19245008972987526\n",
      "  Отклоняем 0 гипотезу в пользу альтернативной: коэффициент корелляции в генеральной совокупности != 0. p_val < 0.05\n",
      "95 percent confidence interval:[0.20165034 0.74376023]\n",
      "PearsonCorellation: 0.5238618336023664\n"
     ]
    }
   ],
   "source": [
    "from scipy import stats\n",
    "import matplotlib.pyplot as plt\n",
    "import numpy as np\n",
    "import random as r\n",
    "\n",
    "def cortest(x,y):\n",
    "    assert len(x)==len(y)\n",
    "    \n",
    "    #t value\n",
    "    cor_pearson = stats.pearsonr(x, y)[0]\n",
    "    df = len(x)-2\n",
    "    \n",
    "    t = cor_pearson * ((len(x) - 2) / (1 - cor_pearson**2))**0.5\n",
    "    p_val = stats.t.sf(np.abs(t), df)*2\n",
    "    print(\"data: x and y\")\n",
    "    print(f\"t = {round(t,5)}, df = {df}, p-value = {p_val:.5f}\")\n",
    "\n",
    "    # Use the Fisher transformation to get z\n",
    "    z = np.arctanh(cor_pearson)\n",
    "    print(\"z value: {}\".format(z))\n",
    "\n",
    "    # And, the sigma value i.e standard error\n",
    "    sigma = (1/((len(x)-3)**0.5))\n",
    "    print(\"sigma value (i.e standard error): {}\".format(sigma))\n",
    "\n",
    "    # Get normal 95% interval probability density function for normal continuous random variable apply two-sided conditional formula\n",
    "    cint = z + np.array([-1, 1]) * sigma * stats.norm.ppf((1+0.95)/2)\n",
    "    \n",
    "    #Finally take hyperbolic tangent to get interval values for 95%\n",
    "    interval = np.tanh(cint)\n",
    "    \n",
    "    if p_val < 0.05:\n",
    "        print(\"  Отклоняем 0 гипотезу в пользу альтернативной: коэффициент корелляции в генеральной совокупности != 0. p_val < 0.05\")\n",
    "    else:\n",
    "        print(\"  Не можем отклонить 0 гипотезу: коэффициент корелляции в генеральной совокупности = 0. p_val >= 0.05\")\n",
    "        \n",
    "    print(f\"95 percent confidence interval:{interval}\")\n",
    "    print(f\"PearsonCorellation: {cor_pearson}\")\n",
    "\n",
    "# ==================================================================  \n",
    "# функция имитирущая случаные факторы\n",
    "# р - настолько существенным будет случайный фактор\n",
    "def randomize(arr, p):\n",
    "    alpha = np.max(arr) - np.min(arr)\n",
    "    res = np.zeros(arr.shape)\n",
    "    for i, v in enumerate(arr):\n",
    "        sign = 1 if r.choice([True, False]) else -1\n",
    "        res[i] = v + sign*alpha*r.random()*p\n",
    "    return res\n",
    "    \n",
    "# ==================================================================    \n",
    "\n",
    "# создаем пару x и y\n",
    "\n",
    "x = np.array(range(30))\n",
    "y = randomize(x, 0.7) # чем ближе к 0 значение, тем менее случайными будут значения y и выше будет корелляция\n",
    "\n",
    "n = 30 # чем меньшее кол-во точек берем в пример, тем менее уверенные значения получаем\n",
    "a,b = x[:n],y[:n]    \n",
    "pearson_corr = stats.pearsonr(a, b)\n",
    "print(f\"(Pearson's correlation coefficient, 2-tailed p-value) = {pearson_corr}\")\n",
    "\n",
    "# cтроим scatter plot\n",
    "plt.scatter(a,b)\n",
    "plt.grid()\n",
    "plt.show()\n",
    "\n",
    "cortest(a,b)"
   ]
  },
  {
   "cell_type": "code",
   "execution_count": null,
   "id": "71698351",
   "metadata": {},
   "outputs": [],
   "source": []
  }
 ],
 "metadata": {
  "kernelspec": {
   "display_name": "Python 3 (ipykernel)",
   "language": "python",
   "name": "python3"
  },
  "language_info": {
   "codemirror_mode": {
    "name": "ipython",
    "version": 3
   },
   "file_extension": ".py",
   "mimetype": "text/x-python",
   "name": "python",
   "nbconvert_exporter": "python",
   "pygments_lexer": "ipython3",
   "version": "3.9.7"
  }
 },
 "nbformat": 4,
 "nbformat_minor": 5
}
